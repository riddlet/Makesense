{
 "cells": [
  {
   "cell_type": "code",
   "execution_count": 2,
   "metadata": {
    "collapsed": false
   },
   "outputs": [
    {
     "name": "stderr",
     "output_type": "stream",
     "text": [
      "/Users/triddle/anaconda/lib/python2.7/site-packages/matplotlib/font_manager.py:273: UserWarning: Matplotlib is building the font cache using fc-list. This may take a moment.\n",
      "  warnings.warn('Matplotlib is building the font cache using fc-list. This may take a moment.')\n",
      "/Users/triddle/anaconda/lib/python2.7/site-packages/matplotlib/__init__.py:872: UserWarning: axes.color_cycle is deprecated and replaced with axes.prop_cycle; please use the latter.\n",
      "  warnings.warn(self.msg_depr % (key, alt_key))\n"
     ]
    }
   ],
   "source": [
    "%matplotlib inline\n",
    "import psycopg2\n",
    "import pandas as pd\n",
    "import seaborn as sns\n",
    "import numpy as np"
   ]
  },
  {
   "cell_type": "code",
   "execution_count": 218,
   "metadata": {
    "collapsed": false
   },
   "outputs": [],
   "source": [
    "try:\n",
    "    conn = psycopg2.connect(\"dbname='makesense' user='postgres' host='localhost' password='Shep$1991'\")\n",
    "except:\n",
    "    print \"I am unable to connect to the database\""
   ]
  },
  {
   "cell_type": "code",
   "execution_count": 219,
   "metadata": {
    "collapsed": false
   },
   "outputs": [],
   "source": [
    "cur = conn.cursor()"
   ]
  },
  {
   "cell_type": "code",
   "execution_count": 179,
   "metadata": {
    "collapsed": false
   },
   "outputs": [],
   "source": [
    "sql = \"\"\"Select * FROM users\"\"\"\n",
    "cur.execute(sql)\n",
    "colnames = [desc[0] for desc in cur.description]"
   ]
  },
  {
   "cell_type": "code",
   "execution_count": 6,
   "metadata": {
    "collapsed": false
   },
   "outputs": [],
   "source": [
    "df = pd.DataFrame(cur.fetchall(), columns=colnames)"
   ]
  },
  {
   "cell_type": "code",
   "execution_count": 7,
   "metadata": {
    "collapsed": false
   },
   "outputs": [
    {
     "data": {
      "text/plain": [
       "(16070, 32)"
      ]
     },
     "execution_count": 7,
     "metadata": {},
     "output_type": "execute_result"
    }
   ],
   "source": [
    "df.shape"
   ]
  },
  {
   "cell_type": "code",
   "execution_count": 9,
   "metadata": {
    "collapsed": false
   },
   "outputs": [
    {
     "data": {
      "text/plain": [
       "<matplotlib.axes._subplots.AxesSubplot at 0x114516750>"
      ]
     },
     "execution_count": 9,
     "metadata": {},
     "output_type": "execute_result"
    },
    {
     "data": {
      "image/png": "[encoded data removed]",
      "text/plain": [
       "<matplotlib.figure.Figure at 0x103ca1a50>"
      ]
     },
     "metadata": {},
     "output_type": "display_data"
    }
   ],
   "source": [
    "sns.distplot(np.log(df.sign_in_count[df.sign_in_count>0]))"
   ]
  },
  {
   "cell_type": "markdown",
   "metadata": {},
   "source": [
    "questions for alix:\n",
    "1. in the users table, what is role?\n",
    "    *volunteer (10k), gangster (volunteer who organized events) (65 - might be buggy), entrepuener (5k)*\n",
    "2. in users table, country is empty, except for one person, listed as portugal \n",
    "    *incomplete and evolving model for capturing data. same for city*\n",
    "3. in users table, provider means where they were referred to makesense from (it means how they log in - with their fb user account)\n",
    "4. it seems like everyone lists their language as english, but most of the text I see looks french.\n",
    "    *english is default but can't know when change was made*\n",
    "\n",
    "5. what is the surveys table?\n",
    "    *questions that are asked when people initiate challenge*\n",
    "6. notifications + notifications_settings?\n",
    "    *notifications_settings is boolean. correspond to email settings - one line per user. \n",
    "    notifications - kind is the type of notifications:*\n",
    "7. identities table describes where people were referred from?\n",
    "    * contains user id for the referring place) *\n",
    "8. events programs?\n",
    "    * \n",
    "9. Challenges_cities is unpopulated?\n",
    "10. what is activities?\n",
    "    *holds information to ddispaly on recent activities on the website*\n",
    "\n",
    "questions about makesense:\n",
    "1. difference between challenge, event, project?\n",
    "    *makesense enables volunteers to get mobilized around projects of entrepeuners. each project gets held by submitting challenges. if a company makes t-shirts with renewable material. that is the project. an example challenge is how to submit a successful crowdfunding campaign. then the volunteers see that a project has a challenge, then they propose their help to solve the challenge. to do this, they hold an event (aka holdup). there are other types of events. but there are other events where people gather just because they like makesense. a program is similar to a category, but it is a sponsored category (typically by a big company).\n",
    "    tracks = programs. these are sponsored\n",
    "    there are challenges and events associated with these tracks*\n",
    "    a given challenge can be associated with multiple tracks/programs\n",
    "    cause = categories (but categories are not sponsored)*\n",
    "    \n",
    "2. what does an 'engaged' user look like? \n",
    "    *attending events, participating in holdups, joingin events*\n",
    "    *be a facilitator (organize hold-up). takes more time and energy. (under challenges, animator_id indicates who facilitates*\n",
    "    *give ideas under inspiration wall (under comments table)*\n",
    "    \n",
    "    *engaged entrepeneur posts challenges, projects. (on projects table, there's a boolean value for published. a project/challenge is not published if there are problems with it, as decided by an admin)*\n",
    "    *entrepeneur can give feedback to participants (\n",
    "3. what is a successful challenge/event/project?\n",
    "\n",
    "roadmap:\n",
    "1. what can I give you that would be most valuable?\n",
    "    - descriptive analysis of who is the most engaged?\n",
    "    - description of what kind of person you want to hire?\n",
    "    - suggestions for types of data to collect?\n",
    "    - suggestions for what kind of a/b test to run?\n",
    "2. tips on how to run a/b tests?\n",
    "\n",
    "*key performance indicator that tells us how engaged a person is.* - probably need two - one for entrepeunur and one for volunteer.\n",
    "*opinion on experiment he did on the landing page*\n",
    "*most events start on facebook. there are a bunch of facebook groups (around 100?). and one larger facebook group (a few thousand people)*\n",
    "*access the data from facebook groups.*\n",
    "*make an infographic?*"
   ]
  },
  {
   "cell_type": "code",
   "execution_count": 159,
   "metadata": {
    "collapsed": false
   },
   "outputs": [
    {
     "data": {
      "text/plain": [
       "en    15728\n",
       "fr      342\n",
       "Name: language, dtype: int64"
      ]
     },
     "execution_count": 159,
     "metadata": {},
     "output_type": "execute_result"
    }
   ],
   "source": [
    "df.language.value_counts()"
   ]
  },
  {
   "cell_type": "code",
   "execution_count": 22,
   "metadata": {
    "collapsed": false
   },
   "outputs": [
    {
     "data": {
      "text/plain": [
       "Portugal    1\n",
       "Name: country, dtype: int64"
      ]
     },
     "execution_count": 22,
     "metadata": {},
     "output_type": "execute_result"
    }
   ],
   "source": [
    "df.country.value_counts()"
   ]
  },
  {
   "cell_type": "code",
   "execution_count": 23,
   "metadata": {
    "collapsed": false
   },
   "outputs": [
    {
     "data": {
      "text/plain": [
       "facebook    7682\n",
       "twitter      130\n",
       "Name: provider, dtype: int64"
      ]
     },
     "execution_count": 23,
     "metadata": {},
     "output_type": "execute_result"
    }
   ],
   "source": [
    "df.provider.value_counts()"
   ]
  },
  {
   "cell_type": "code",
   "execution_count": 25,
   "metadata": {
    "collapsed": false
   },
   "outputs": [
    {
     "data": {
      "text/plain": [
       "en    15728\n",
       "fr      342\n",
       "Name: language, dtype: int64"
      ]
     },
     "execution_count": 25,
     "metadata": {},
     "output_type": "execute_result"
    }
   ],
   "source": [
    "df.language.value_counts()"
   ]
  },
  {
   "cell_type": "code",
   "execution_count": 29,
   "metadata": {
    "collapsed": false
   },
   "outputs": [
    {
     "data": {
      "text/plain": [
       "0.0    15302\n",
       "1.0      494\n",
       "2.0       88\n",
       "3.0       35\n",
       "4.0       16\n",
       "5.0        8\n",
       "7.0        2\n",
       "6.0        2\n",
       "8.0        1\n",
       "Name: event_participated_count, dtype: int64"
      ]
     },
     "execution_count": 29,
     "metadata": {},
     "output_type": "execute_result"
    }
   ],
   "source": [
    "df.event_participated_count.value_counts()"
   ]
  },
  {
   "cell_type": "code",
   "execution_count": 30,
   "metadata": {
    "collapsed": false
   },
   "outputs": [
    {
     "data": {
      "text/plain": [
       "0.0    15854\n",
       "1.0       67\n",
       "2.0       16\n",
       "3.0        6\n",
       "6.0        2\n",
       "8.0        1\n",
       "5.0        1\n",
       "4.0        1\n",
       "Name: holdup_facilitated_count, dtype: int64"
      ]
     },
     "execution_count": 30,
     "metadata": {},
     "output_type": "execute_result"
    }
   ],
   "source": [
    "df.holdup_facilitated_count.value_counts()"
   ]
  },
  {
   "cell_type": "markdown",
   "metadata": {},
   "source": [
    "other tables with interesting data:\n",
    "surveys, [tags + projects_tags], projects, notifications + [notification_settings], likes + comments, interest_users+interests, events_subscribers, events [challenges * tables], activities"
   ]
  },
  {
   "cell_type": "code",
   "execution_count": 220,
   "metadata": {
    "collapsed": false
   },
   "outputs": [],
   "source": [
    "sql = \"\"\"Select * FROM feedbacks\"\"\"\n",
    "cur.execute(sql)\n",
    "colnames = [desc[0] for desc in cur.description]"
   ]
  },
  {
   "cell_type": "code",
   "execution_count": 221,
   "metadata": {
    "collapsed": false
   },
   "outputs": [
    {
     "data": {
      "text/plain": [
       "['id', 'challenge_id', 'body', 'created_at', 'updated_at', 'user_id']"
      ]
     },
     "execution_count": 221,
     "metadata": {},
     "output_type": "execute_result"
    }
   ],
   "source": [
    "colnames"
   ]
  },
  {
   "cell_type": "code",
   "execution_count": 222,
   "metadata": {
    "collapsed": true
   },
   "outputs": [],
   "source": [
    "df_usermap = pd.DataFrame(cur.fetchall(), columns=colnames)"
   ]
  },
  {
   "cell_type": "code",
   "execution_count": 223,
   "metadata": {
    "collapsed": false
   },
   "outputs": [
    {
     "data": {
      "text/html": [
       "<div>\n",
       "<table border=\"1\" class=\"dataframe\">\n",
       "  <thead>\n",
       "    <tr style=\"text-align: right;\">\n",
       "      <th></th>\n",
       "      <th>id</th>\n",
       "      <th>challenge_id</th>\n",
       "      <th>body</th>\n",
       "      <th>created_at</th>\n",
       "      <th>updated_at</th>\n",
       "      <th>user_id</th>\n",
       "    </tr>\n",
       "  </thead>\n",
       "  <tbody>\n",
       "    <tr>\n",
       "      <th>0</th>\n",
       "      <td>1</td>\n",
       "      <td>1022</td>\n",
       "      <td>C'était chouette, merci à tous ! On vous envoi...</td>\n",
       "      <td>2016-02-02 10:45:14.527011</td>\n",
       "      <td>2016-02-02 10:45:14.527011</td>\n",
       "      <td>5819</td>\n",
       "    </tr>\n",
       "    <tr>\n",
       "      <th>1</th>\n",
       "      <td>2</td>\n",
       "      <td>990</td>\n",
       "      <td>Merci à tous les participants !</td>\n",
       "      <td>2016-02-03 17:06:31.451785</td>\n",
       "      <td>2016-02-03 17:06:31.451785</td>\n",
       "      <td>16760</td>\n",
       "    </tr>\n",
       "  </tbody>\n",
       "</table>\n",
       "</div>"
      ],
      "text/plain": [
       "   id  challenge_id                                               body  \\\n",
       "0   1          1022  C'était chouette, merci à tous ! On vous envoi...   \n",
       "1   2           990                    Merci à tous les participants !   \n",
       "\n",
       "                  created_at                 updated_at  user_id  \n",
       "0 2016-02-02 10:45:14.527011 2016-02-02 10:45:14.527011     5819  \n",
       "1 2016-02-03 17:06:31.451785 2016-02-03 17:06:31.451785    16760  "
      ]
     },
     "execution_count": 223,
     "metadata": {},
     "output_type": "execute_result"
    }
   ],
   "source": [
    "df_usermap.head()"
   ]
  },
  {
   "cell_type": "code",
   "execution_count": 225,
   "metadata": {
    "collapsed": false
   },
   "outputs": [
    {
     "data": {
      "text/html": [
       "<div>\n",
       "<table border=\"1\" class=\"dataframe\">\n",
       "  <thead>\n",
       "    <tr style=\"text-align: right;\">\n",
       "      <th></th>\n",
       "      <th>id</th>\n",
       "      <th>challenge_id</th>\n",
       "      <th>body</th>\n",
       "      <th>created_at</th>\n",
       "      <th>updated_at</th>\n",
       "      <th>user_id</th>\n",
       "    </tr>\n",
       "  </thead>\n",
       "  <tbody>\n",
       "    <tr>\n",
       "      <th>0</th>\n",
       "      <td>1</td>\n",
       "      <td>1022</td>\n",
       "      <td>C'était chouette, merci à tous ! On vous envoi...</td>\n",
       "      <td>2016-02-02 10:45:14.527011</td>\n",
       "      <td>2016-02-02 10:45:14.527011</td>\n",
       "      <td>5819</td>\n",
       "    </tr>\n",
       "    <tr>\n",
       "      <th>1</th>\n",
       "      <td>2</td>\n",
       "      <td>990</td>\n",
       "      <td>Merci à tous les participants !</td>\n",
       "      <td>2016-02-03 17:06:31.451785</td>\n",
       "      <td>2016-02-03 17:06:31.451785</td>\n",
       "      <td>16760</td>\n",
       "    </tr>\n",
       "  </tbody>\n",
       "</table>\n",
       "</div>"
      ],
      "text/plain": [
       "   id  challenge_id                                               body  \\\n",
       "0   1          1022  C'était chouette, merci à tous ! On vous envoi...   \n",
       "1   2           990                    Merci à tous les participants !   \n",
       "\n",
       "                  created_at                 updated_at  user_id  \n",
       "0 2016-02-02 10:45:14.527011 2016-02-02 10:45:14.527011     5819  \n",
       "1 2016-02-03 17:06:31.451785 2016-02-03 17:06:31.451785    16760  "
      ]
     },
     "execution_count": 225,
     "metadata": {},
     "output_type": "execute_result"
    }
   ],
   "source": [
    "df_usermap"
   ]
  },
  {
   "cell_type": "code",
   "execution_count": 46,
   "metadata": {
    "collapsed": false
   },
   "outputs": [
    {
     "data": {
      "text/plain": [
       "facebook    6986\n",
       "twitter       19\n",
       "Name: provider, dtype: int64"
      ]
     },
     "execution_count": 46,
     "metadata": {},
     "output_type": "execute_result"
    }
   ],
   "source": [
    "df_usermap.provider.value_counts()"
   ]
  },
  {
   "cell_type": "code",
   "execution_count": null,
   "metadata": {
    "collapsed": true
   },
   "outputs": [],
   "source": []
  },
  {
   "cell_type": "code",
   "execution_count": null,
   "metadata": {
    "collapsed": true
   },
   "outputs": [],
   "source": []
  }
 ],
 "metadata": {
  "kernelspec": {
   "display_name": "Python 2",
   "language": "python",
   "name": "python2"
  },
  "language_info": {
   "codemirror_mode": {
    "name": "ipython",
    "version": 2
   },
   "file_extension": ".py",
   "mimetype": "text/x-python",
   "name": "python",
   "nbconvert_exporter": "python",
   "pygments_lexer": "ipython2",
   "version": "2.7.12"
  }
 },
 "nbformat": 4,
 "nbformat_minor": 0
}
