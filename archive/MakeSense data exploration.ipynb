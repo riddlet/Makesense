{
 "cells": [
  {
   "cell_type": "code",
   "execution_count": 1,
   "metadata": {
    "collapsed": false
   },
   "outputs": [
    {
     "name": "stderr",
     "output_type": "stream",
     "text": [
      "/Users/triddle/anaconda/lib/python2.7/site-packages/matplotlib/font_manager.py:273: UserWarning: Matplotlib is building the font cache using fc-list. This may take a moment.\n",
      "  warnings.warn('Matplotlib is building the font cache using fc-list. This may take a moment.')\n",
      "/Users/triddle/anaconda/lib/python2.7/site-packages/matplotlib/__init__.py:872: UserWarning: axes.color_cycle is deprecated and replaced with axes.prop_cycle; please use the latter.\n",
      "  warnings.warn(self.msg_depr % (key, alt_key))\n"
     ]
    }
   ],
   "source": [
    "%matplotlib inline\n",
    "import psycopg2\n",
    "import pandas as pd\n",
    "import seaborn as sns\n",
    "import numpy as np"
   ]
  },
  {
   "cell_type": "code",
   "execution_count": 5,
   "metadata": {
    "collapsed": false
   },
   "outputs": [],
   "source": [
    "try:\n",
    "    conn = psycopg2.connect(\"dbname='makesense' user='postgres' host='localhost' password='Shep$1991'\")\n",
    "except:\n",
    "    print \"I am unable to connect to the database\""
   ]
  },
  {
   "cell_type": "code",
   "execution_count": 6,
   "metadata": {
    "collapsed": false
   },
   "outputs": [],
   "source": [
    "cur = conn.cursor()"
   ]
  },
  {
   "cell_type": "code",
   "execution_count": 4,
   "metadata": {
    "collapsed": false
   },
   "outputs": [
    {
     "name": "stdout",
     "output_type": "stream",
     "text": [
      "('activities',)\n",
      "('categories_projects',)\n",
      "('challenges_programs',)\n",
      "('challenges_tags',)\n",
      "('admins',)\n",
      "('cities',)\n",
      "('countries',)\n",
      "('categories',)\n",
      "('events_programs',)\n",
      "('events_participants',)\n",
      "('challenges_expertises',)\n",
      "('challenges_cities',)\n",
      "('comments',)\n",
      "('events_subscribers',)\n",
      "('expertises_users',)\n",
      "('notification_settings',)\n",
      "('notifications',)\n",
      "('identities',)\n",
      "('interests',)\n",
      "('pages',)\n",
      "('pictures',)\n",
      "('projects',)\n",
      "('regions',)\n",
      "('schema_migrations',)\n",
      "('shares',)\n",
      "('surveys',)\n",
      "('team_members',)\n",
      "('translations',)\n",
      "('admins_regions',)\n",
      "('interests_users',)\n",
      "('programs',)\n",
      "('feedbacks',)\n",
      "('projects_tags',)\n",
      "('expertises',)\n",
      "('countries_regions',)\n",
      "('challenges',)\n",
      "('tags',)\n",
      "('likes',)\n",
      "('events',)\n",
      "('users',)\n"
     ]
    }
   ],
   "source": [
    "cur.execute(\"\"\"SELECT table_name FROM information_schema.tables\n",
    "       WHERE table_schema = 'public'\"\"\")\n",
    "for table in cur.fetchall():\n",
    "    print(table)"
   ]
  },
  {
   "cell_type": "code",
   "execution_count": 7,
   "metadata": {
    "collapsed": false
   },
   "outputs": [
    {
     "data": {
      "text/html": [
       "<div>\n",
       "<table border=\"1\" class=\"dataframe\">\n",
       "  <thead>\n",
       "    <tr style=\"text-align: right;\">\n",
       "      <th></th>\n",
       "      <th>event_id</th>\n",
       "      <th>user_id</th>\n",
       "    </tr>\n",
       "  </thead>\n",
       "  <tbody>\n",
       "    <tr>\n",
       "      <th>0</th>\n",
       "      <td>1307</td>\n",
       "      <td>2959</td>\n",
       "    </tr>\n",
       "    <tr>\n",
       "      <th>1</th>\n",
       "      <td>1251</td>\n",
       "      <td>2959</td>\n",
       "    </tr>\n",
       "    <tr>\n",
       "      <th>2</th>\n",
       "      <td>1270</td>\n",
       "      <td>2959</td>\n",
       "    </tr>\n",
       "    <tr>\n",
       "      <th>3</th>\n",
       "      <td>1305</td>\n",
       "      <td>2959</td>\n",
       "    </tr>\n",
       "    <tr>\n",
       "      <th>4</th>\n",
       "      <td>1271</td>\n",
       "      <td>2959</td>\n",
       "    </tr>\n",
       "  </tbody>\n",
       "</table>\n",
       "</div>"
      ],
      "text/plain": [
       "   event_id  user_id\n",
       "0      1307     2959\n",
       "1      1251     2959\n",
       "2      1270     2959\n",
       "3      1305     2959\n",
       "4      1271     2959"
      ]
     },
     "execution_count": 7,
     "metadata": {},
     "output_type": "execute_result"
    }
   ],
   "source": [
    "sql = \"\"\"Select * FROM events_participants\"\"\"\n",
    "cur.execute(sql)\n",
    "colnames = [desc[0] for desc in cur.description]\n",
    "df_event_participants = pd.DataFrame(cur.fetchall(), columns=colnames)\n",
    "df_event_participants.head()\n",
    "#df_event_participants.to_csv('data/event_participants.csv', index=False)"
   ]
  },
  {
   "cell_type": "code",
   "execution_count": 274,
   "metadata": {
    "collapsed": false
   },
   "outputs": [],
   "source": [
    "sql = \"\"\"Select * FROM events\"\"\"\n",
    "cur.execute(sql)\n",
    "colnames = [desc[0] for desc in cur.description]\n",
    "df_events = pd.DataFrame(cur.fetchall(), columns=colnames)\n",
    "df_events.to_csv('data/events.csv', index=False)"
   ]
  },
  {
   "cell_type": "code",
   "execution_count": 278,
   "metadata": {
    "collapsed": true
   },
   "outputs": [],
   "source": [
    "sql = \"\"\"Select * FROM users\"\"\"\n",
    "cur.execute(sql)\n",
    "colnames = [desc[0] for desc in cur.description]\n",
    "df_users = pd.DataFrame(cur.fetchall(), columns=colnames)\n",
    "df_users.to_csv('data/users.csv', index=False)"
   ]
  },
  {
   "cell_type": "code",
   "execution_count": 250,
   "metadata": {
    "collapsed": false
   },
   "outputs": [
    {
     "ename": "AttributeError",
     "evalue": "'DataFrame' object has no attribute 'sign_in_count'",
     "output_type": "error",
     "traceback": [
      "\u001b[0;31m---------------------------------------------------------------------------\u001b[0m",
      "\u001b[0;31mAttributeError\u001b[0m                            Traceback (most recent call last)",
      "\u001b[0;32m<ipython-input-250-21377e4b5d6e>\u001b[0m in \u001b[0;36m<module>\u001b[0;34m()\u001b[0m\n\u001b[0;32m----> 1\u001b[0;31m \u001b[0msns\u001b[0m\u001b[0;34m.\u001b[0m\u001b[0mdistplot\u001b[0m\u001b[0;34m(\u001b[0m\u001b[0mnp\u001b[0m\u001b[0;34m.\u001b[0m\u001b[0mlog\u001b[0m\u001b[0;34m(\u001b[0m\u001b[0mdf\u001b[0m\u001b[0;34m.\u001b[0m\u001b[0msign_in_count\u001b[0m\u001b[0;34m[\u001b[0m\u001b[0mdf\u001b[0m\u001b[0;34m.\u001b[0m\u001b[0msign_in_count\u001b[0m\u001b[0;34m>\u001b[0m\u001b[0;36m0\u001b[0m\u001b[0;34m]\u001b[0m\u001b[0;34m)\u001b[0m\u001b[0;34m)\u001b[0m\u001b[0;34m\u001b[0m\u001b[0m\n\u001b[0m",
      "\u001b[0;32m//anaconda/lib/python2.7/site-packages/pandas/core/generic.pyc\u001b[0m in \u001b[0;36m__getattr__\u001b[0;34m(self, name)\u001b[0m\n\u001b[1;32m   2670\u001b[0m             \u001b[0;32mif\u001b[0m \u001b[0mname\u001b[0m \u001b[0;32min\u001b[0m \u001b[0mself\u001b[0m\u001b[0;34m.\u001b[0m\u001b[0m_info_axis\u001b[0m\u001b[0;34m:\u001b[0m\u001b[0;34m\u001b[0m\u001b[0m\n\u001b[1;32m   2671\u001b[0m                 \u001b[0;32mreturn\u001b[0m \u001b[0mself\u001b[0m\u001b[0;34m[\u001b[0m\u001b[0mname\u001b[0m\u001b[0;34m]\u001b[0m\u001b[0;34m\u001b[0m\u001b[0m\n\u001b[0;32m-> 2672\u001b[0;31m             \u001b[0;32mreturn\u001b[0m \u001b[0mobject\u001b[0m\u001b[0;34m.\u001b[0m\u001b[0m__getattribute__\u001b[0m\u001b[0;34m(\u001b[0m\u001b[0mself\u001b[0m\u001b[0;34m,\u001b[0m \u001b[0mname\u001b[0m\u001b[0;34m)\u001b[0m\u001b[0;34m\u001b[0m\u001b[0m\n\u001b[0m\u001b[1;32m   2673\u001b[0m \u001b[0;34m\u001b[0m\u001b[0m\n\u001b[1;32m   2674\u001b[0m     \u001b[0;32mdef\u001b[0m \u001b[0m__setattr__\u001b[0m\u001b[0;34m(\u001b[0m\u001b[0mself\u001b[0m\u001b[0;34m,\u001b[0m \u001b[0mname\u001b[0m\u001b[0;34m,\u001b[0m \u001b[0mvalue\u001b[0m\u001b[0;34m)\u001b[0m\u001b[0;34m:\u001b[0m\u001b[0;34m\u001b[0m\u001b[0m\n",
      "\u001b[0;31mAttributeError\u001b[0m: 'DataFrame' object has no attribute 'sign_in_count'"
     ]
    }
   ],
   "source": [
    "sns.distplot(np.log(df.sign_in_count[df.sign_in_count>0]))"
   ]
  },
  {
   "cell_type": "markdown",
   "metadata": {},
   "source": [
    "questions for alix:\n",
    "1. in the users table, what is role?\n",
    "    *volunteer (10k), gangster (volunteer who organized events) (65 - might be buggy), entrepuener (5k)*\n",
    "2. in users table, country is empty, except for one person, listed as portugal \n",
    "    *incomplete and evolving model for capturing data. same for city*\n",
    "3. in users table, provider means where they were referred to makesense from (it means how they log in - with their fb user account)\n",
    "4. it seems like everyone lists their language as english, but most of the text I see looks french.\n",
    "    *english is default but can't know when change was made*\n",
    "\n",
    "5. what is the surveys table?\n",
    "    *questions that are asked when people initiate challenge*\n",
    "6. notifications + notifications_settings?\n",
    "    *notifications_settings is boolean. correspond to email settings - one line per user. \n",
    "    notifications - kind is the type of notifications:*\n",
    "7. identities table describes where people were referred from?\n",
    "    * contains user id for the referring place) *\n",
    "8. events programs?\n",
    "    * \n",
    "9. Challenges_cities is unpopulated?\n",
    "10. what is activities?\n",
    "    *holds information to ddispaly on recent activities on the website*\n",
    "\n",
    "questions about makesense:\n",
    "1. difference between challenge, event, project?\n",
    "    *makesense enables volunteers to get mobilized around projects of entrepeuners. each project gets held by submitting challenges. if a company makes t-shirts with renewable material. that is the project. an example challenge is how to submit a successful crowdfunding campaign. then the volunteers see that a project has a challenge, then they propose their help to solve the challenge. to do this, they hold an event (aka holdup). there are other types of events. but there are other events where people gather just because they like makesense. a program is similar to a category, but it is a sponsored category (typically by a big company).\n",
    "    tracks = programs. these are sponsored\n",
    "    there are challenges and events associated with these tracks*\n",
    "    a given challenge can be associated with multiple tracks/programs\n",
    "    cause = categories (but categories are not sponsored)*\n",
    "    \n",
    "2. what does an 'engaged' user look like? \n",
    "    *attending events, participating in holdups, joingin events*\n",
    "    *be a facilitator (organize hold-up). takes more time and energy. (under challenges, animator_id indicates who facilitates*\n",
    "    *give ideas under inspiration wall (under comments table)*\n",
    "    \n",
    "    *engaged entrepeneur posts challenges, projects. (on projects table, there's a boolean value for published. a project/challenge is not published if there are problems with it, as decided by an admin)*\n",
    "    *entrepeneur can give feedback to participants (\n",
    "3. what is a successful challenge/event/project?\n",
    "\n",
    "roadmap:\n",
    "1. what can I give you that would be most valuable?\n",
    "    - descriptive analysis of who is the most engaged?\n",
    "    - description of what kind of person you want to hire?\n",
    "    - suggestions for types of data to collect?\n",
    "    - suggestions for what kind of a/b test to run?\n",
    "2. tips on how to run a/b tests?\n",
    "\n",
    "*key performance indicator that tells us how engaged a person is.* - probably need two - one for entrepeunur and one for volunteer.\n",
    "*opinion on experiment he did on the landing page*\n",
    "*most events start on facebook. there are a bunch of facebook groups (around 100?). and one larger facebook group (a few thousand people)*\n",
    "*access the data from facebook groups.*\n",
    "*make an infographic?*"
   ]
  },
  {
   "cell_type": "code",
   "execution_count": 75,
   "metadata": {
    "collapsed": false
   },
   "outputs": [],
   "source": [
    "df['sign_in_bins'] = pd.cut(df.sign_in_count, [0, 1, 2, 3, 6, 12, 20, 800])\n",
    "df['hold_up_bin'] = df.holdup_facilitated_count>0\n",
    "df['event_participated_bin'] = pd.cut(df.event_participated_count, [0, 1, 10])"
   ]
  },
  {
   "cell_type": "code",
   "execution_count": 76,
   "metadata": {
    "collapsed": false
   },
   "outputs": [
    {
     "data": {
      "image/png": "[encoded data removed]",
      "text/plain": [
       "<matplotlib.figure.Figure at 0x11a05d590>"
      ]
     },
     "metadata": {},
     "output_type": "display_data"
    }
   ],
   "source": [
    "ax = sns.factorplot(x=\"sign_in_bins\", y=\"holdup_facilitated_count\", hue = 'event_participated_bin', data=df, jitter=True)"
   ]
  },
  {
   "cell_type": "code",
   "execution_count": 63,
   "metadata": {
    "collapsed": false
   },
   "outputs": [
    {
     "data": {
      "text/plain": [
       "<seaborn.axisgrid.FacetGrid at 0x119a14510>"
      ]
     },
     "execution_count": 63,
     "metadata": {},
     "output_type": "execute_result"
    },
    {
     "data": {
      "image/png": "[encoded data removed]",
      "text/plain": [
       "<matplotlib.figure.Figure at 0x119a14c50>"
      ]
     },
     "metadata": {},
     "output_type": "display_data"
    }
   ],
   "source": [
    "sns.factorplot(x=\"sign_in_bins\", y=\"event_participated_count\", data=df)"
   ]
  },
  {
   "cell_type": "code",
   "execution_count": 65,
   "metadata": {
    "collapsed": false
   },
   "outputs": [
    {
     "data": {
      "text/plain": [
       "0.0    15302\n",
       "1.0      494\n",
       "2.0       88\n",
       "3.0       35\n",
       "4.0       16\n",
       "5.0        8\n",
       "7.0        2\n",
       "6.0        2\n",
       "8.0        1\n",
       "Name: event_participated_count, dtype: int64"
      ]
     },
     "execution_count": 65,
     "metadata": {},
     "output_type": "execute_result"
    }
   ],
   "source": [
    "df.event_participated_count.value_counts()"
   ]
  },
  {
   "cell_type": "code",
   "execution_count": 77,
   "metadata": {
    "collapsed": false
   },
   "outputs": [
    {
     "data": {
      "text/plain": [
       "1      11243\n",
       "2       1990\n",
       "3        782\n",
       "0        718\n",
       "4        389\n",
       "5        241\n",
       "6        139\n",
       "7        121\n",
       "8         87\n",
       "9         61\n",
       "10        44\n",
       "11        35\n",
       "12        29\n",
       "13        28\n",
       "14        19\n",
       "15        18\n",
       "18        16\n",
       "19        11\n",
       "20         7\n",
       "16         6\n",
       "27         6\n",
       "29         6\n",
       "25         5\n",
       "21         5\n",
       "22         4\n",
       "17         4\n",
       "28         3\n",
       "31         3\n",
       "23         3\n",
       "26         3\n",
       "       ...  \n",
       "32         2\n",
       "30         2\n",
       "46         2\n",
       "24         2\n",
       "34         1\n",
       "33         1\n",
       "41         1\n",
       "40         1\n",
       "89         1\n",
       "39         1\n",
       "47         1\n",
       "51         1\n",
       "42         1\n",
       "50         1\n",
       "142        1\n",
       "78         1\n",
       "62         1\n",
       "701        1\n",
       "61         1\n",
       "37         1\n",
       "68         1\n",
       "60         1\n",
       "52         1\n",
       "36         1\n",
       "55         1\n",
       "35         1\n",
       "234        1\n",
       "82         1\n",
       "58         1\n",
       "71         1\n",
       "Name: sign_in_count, dtype: int64"
      ]
     },
     "execution_count": 77,
     "metadata": {},
     "output_type": "execute_result"
    }
   ],
   "source": [
    "df.sign_in_count.value_counts()"
   ]
  },
  {
   "cell_type": "code",
   "execution_count": 29,
   "metadata": {
    "collapsed": false
   },
   "outputs": [
    {
     "data": {
      "text/plain": [
       "0.0    15302\n",
       "1.0      494\n",
       "2.0       88\n",
       "3.0       35\n",
       "4.0       16\n",
       "5.0        8\n",
       "7.0        2\n",
       "6.0        2\n",
       "8.0        1\n",
       "Name: event_participated_count, dtype: int64"
      ]
     },
     "execution_count": 29,
     "metadata": {},
     "output_type": "execute_result"
    }
   ],
   "source": [
    "df.event_participated_count.value_counts()"
   ]
  },
  {
   "cell_type": "code",
   "execution_count": 80,
   "metadata": {
    "collapsed": false
   },
   "outputs": [
    {
     "data": {
      "text/html": [
       "<div>\n",
       "<table border=\"1\" class=\"dataframe\">\n",
       "  <thead>\n",
       "    <tr>\n",
       "      <th>hold_up_bin</th>\n",
       "      <th colspan=\"7\" halign=\"left\">False</th>\n",
       "      <th colspan=\"7\" halign=\"left\">True</th>\n",
       "    </tr>\n",
       "    <tr>\n",
       "      <th>sign_in_bins</th>\n",
       "      <th>(0, 1]</th>\n",
       "      <th>(1, 2]</th>\n",
       "      <th>(2, 3]</th>\n",
       "      <th>(3, 6]</th>\n",
       "      <th>(6, 12]</th>\n",
       "      <th>(12, 20]</th>\n",
       "      <th>(20, 800]</th>\n",
       "      <th>(0, 1]</th>\n",
       "      <th>(1, 2]</th>\n",
       "      <th>(2, 3]</th>\n",
       "      <th>(3, 6]</th>\n",
       "      <th>(6, 12]</th>\n",
       "      <th>(12, 20]</th>\n",
       "      <th>(20, 800]</th>\n",
       "    </tr>\n",
       "    <tr>\n",
       "      <th>event_participated_bin</th>\n",
       "      <th></th>\n",
       "      <th></th>\n",
       "      <th></th>\n",
       "      <th></th>\n",
       "      <th></th>\n",
       "      <th></th>\n",
       "      <th></th>\n",
       "      <th></th>\n",
       "      <th></th>\n",
       "      <th></th>\n",
       "      <th></th>\n",
       "      <th></th>\n",
       "      <th></th>\n",
       "      <th></th>\n",
       "    </tr>\n",
       "  </thead>\n",
       "  <tbody>\n",
       "    <tr>\n",
       "      <th>(0, 1]</th>\n",
       "      <td>258</td>\n",
       "      <td>114</td>\n",
       "      <td>38</td>\n",
       "      <td>40</td>\n",
       "      <td>21</td>\n",
       "      <td>4</td>\n",
       "      <td>3</td>\n",
       "      <td>0</td>\n",
       "      <td>0</td>\n",
       "      <td>0</td>\n",
       "      <td>5</td>\n",
       "      <td>5</td>\n",
       "      <td>1</td>\n",
       "      <td>5</td>\n",
       "    </tr>\n",
       "    <tr>\n",
       "      <th>(1, 10]</th>\n",
       "      <td>15</td>\n",
       "      <td>19</td>\n",
       "      <td>15</td>\n",
       "      <td>29</td>\n",
       "      <td>22</td>\n",
       "      <td>13</td>\n",
       "      <td>8</td>\n",
       "      <td>0</td>\n",
       "      <td>0</td>\n",
       "      <td>2</td>\n",
       "      <td>3</td>\n",
       "      <td>5</td>\n",
       "      <td>7</td>\n",
       "      <td>14</td>\n",
       "    </tr>\n",
       "  </tbody>\n",
       "</table>\n",
       "</div>"
      ],
      "text/plain": [
       "hold_up_bin             False                                                  \\\n",
       "sign_in_bins           (0, 1] (1, 2] (2, 3] (3, 6] (6, 12] (12, 20] (20, 800]   \n",
       "event_participated_bin                                                          \n",
       "(0, 1]                    258    114     38     40      21        4         3   \n",
       "(1, 10]                    15     19     15     29      22       13         8   \n",
       "\n",
       "hold_up_bin             True                                                   \n",
       "sign_in_bins           (0, 1] (1, 2] (2, 3] (3, 6] (6, 12] (12, 20] (20, 800]  \n",
       "event_participated_bin                                                         \n",
       "(0, 1]                      0      0      0      5       5        1         5  \n",
       "(1, 10]                     0      0      2      3       5        7        14  "
      ]
     },
     "execution_count": 80,
     "metadata": {},
     "output_type": "execute_result"
    }
   ],
   "source": [
    "pd.crosstab(df.event_participated_bin, [df.hold_up_bin, df.sign_in_bins])"
   ]
  },
  {
   "cell_type": "markdown",
   "metadata": {},
   "source": [
    "other tables with interesting data:\n",
    "surveys, [tags + projects_tags], projects, notifications + [notification_settings], likes + comments, interest_users+interests, events_subscribers, events [challenges * tables], activities"
   ]
  },
  {
   "cell_type": "code",
   "execution_count": 220,
   "metadata": {
    "collapsed": false
   },
   "outputs": [],
   "source": [
    "sql = \"\"\"Select * FROM feedbacks\"\"\"\n",
    "cur.execute(sql)\n",
    "colnames = [desc[0] for desc in cur.description]"
   ]
  },
  {
   "cell_type": "code",
   "execution_count": 221,
   "metadata": {
    "collapsed": false
   },
   "outputs": [
    {
     "data": {
      "text/plain": [
       "['id', 'challenge_id', 'body', 'created_at', 'updated_at', 'user_id']"
      ]
     },
     "execution_count": 221,
     "metadata": {},
     "output_type": "execute_result"
    }
   ],
   "source": [
    "colnames"
   ]
  },
  {
   "cell_type": "code",
   "execution_count": 222,
   "metadata": {
    "collapsed": true
   },
   "outputs": [],
   "source": [
    "df_usermap = pd.DataFrame(cur.fetchall(), columns=colnames)"
   ]
  },
  {
   "cell_type": "code",
   "execution_count": 223,
   "metadata": {
    "collapsed": false
   },
   "outputs": [
    {
     "data": {
      "text/html": [
       "<div>\n",
       "<table border=\"1\" class=\"dataframe\">\n",
       "  <thead>\n",
       "    <tr style=\"text-align: right;\">\n",
       "      <th></th>\n",
       "      <th>id</th>\n",
       "      <th>challenge_id</th>\n",
       "      <th>body</th>\n",
       "      <th>created_at</th>\n",
       "      <th>updated_at</th>\n",
       "      <th>user_id</th>\n",
       "    </tr>\n",
       "  </thead>\n",
       "  <tbody>\n",
       "    <tr>\n",
       "      <th>0</th>\n",
       "      <td>1</td>\n",
       "      <td>1022</td>\n",
       "      <td>C'était chouette, merci à tous ! On vous envoi...</td>\n",
       "      <td>2016-02-02 10:45:14.527011</td>\n",
       "      <td>2016-02-02 10:45:14.527011</td>\n",
       "      <td>5819</td>\n",
       "    </tr>\n",
       "    <tr>\n",
       "      <th>1</th>\n",
       "      <td>2</td>\n",
       "      <td>990</td>\n",
       "      <td>Merci à tous les participants !</td>\n",
       "      <td>2016-02-03 17:06:31.451785</td>\n",
       "      <td>2016-02-03 17:06:31.451785</td>\n",
       "      <td>16760</td>\n",
       "    </tr>\n",
       "  </tbody>\n",
       "</table>\n",
       "</div>"
      ],
      "text/plain": [
       "   id  challenge_id                                               body  \\\n",
       "0   1          1022  C'était chouette, merci à tous ! On vous envoi...   \n",
       "1   2           990                    Merci à tous les participants !   \n",
       "\n",
       "                  created_at                 updated_at  user_id  \n",
       "0 2016-02-02 10:45:14.527011 2016-02-02 10:45:14.527011     5819  \n",
       "1 2016-02-03 17:06:31.451785 2016-02-03 17:06:31.451785    16760  "
      ]
     },
     "execution_count": 223,
     "metadata": {},
     "output_type": "execute_result"
    }
   ],
   "source": [
    "df_usermap.head()"
   ]
  },
  {
   "cell_type": "code",
   "execution_count": 225,
   "metadata": {
    "collapsed": false
   },
   "outputs": [
    {
     "data": {
      "text/html": [
       "<div>\n",
       "<table border=\"1\" class=\"dataframe\">\n",
       "  <thead>\n",
       "    <tr style=\"text-align: right;\">\n",
       "      <th></th>\n",
       "      <th>id</th>\n",
       "      <th>challenge_id</th>\n",
       "      <th>body</th>\n",
       "      <th>created_at</th>\n",
       "      <th>updated_at</th>\n",
       "      <th>user_id</th>\n",
       "    </tr>\n",
       "  </thead>\n",
       "  <tbody>\n",
       "    <tr>\n",
       "      <th>0</th>\n",
       "      <td>1</td>\n",
       "      <td>1022</td>\n",
       "      <td>C'était chouette, merci à tous ! On vous envoi...</td>\n",
       "      <td>2016-02-02 10:45:14.527011</td>\n",
       "      <td>2016-02-02 10:45:14.527011</td>\n",
       "      <td>5819</td>\n",
       "    </tr>\n",
       "    <tr>\n",
       "      <th>1</th>\n",
       "      <td>2</td>\n",
       "      <td>990</td>\n",
       "      <td>Merci à tous les participants !</td>\n",
       "      <td>2016-02-03 17:06:31.451785</td>\n",
       "      <td>2016-02-03 17:06:31.451785</td>\n",
       "      <td>16760</td>\n",
       "    </tr>\n",
       "  </tbody>\n",
       "</table>\n",
       "</div>"
      ],
      "text/plain": [
       "   id  challenge_id                                               body  \\\n",
       "0   1          1022  C'était chouette, merci à tous ! On vous envoi...   \n",
       "1   2           990                    Merci à tous les participants !   \n",
       "\n",
       "                  created_at                 updated_at  user_id  \n",
       "0 2016-02-02 10:45:14.527011 2016-02-02 10:45:14.527011     5819  \n",
       "1 2016-02-03 17:06:31.451785 2016-02-03 17:06:31.451785    16760  "
      ]
     },
     "execution_count": 225,
     "metadata": {},
     "output_type": "execute_result"
    }
   ],
   "source": [
    "df_usermap"
   ]
  },
  {
   "cell_type": "code",
   "execution_count": 46,
   "metadata": {
    "collapsed": false
   },
   "outputs": [
    {
     "data": {
      "text/plain": [
       "facebook    6986\n",
       "twitter       19\n",
       "Name: provider, dtype: int64"
      ]
     },
     "execution_count": 46,
     "metadata": {},
     "output_type": "execute_result"
    }
   ],
   "source": [
    "df_usermap.provider.value_counts()"
   ]
  },
  {
   "cell_type": "markdown",
   "metadata": {
    "collapsed": true
   },
   "source": [
    "notes:\n",
    "- kpi: given that someone logs in, what's the probability that they engage in a key behavior?\n",
    "\n",
    "active users are also users that read stories, and share the stories through social networks and activities.\n",
    "\n",
    "what information needs to be tracked?\n",
    "given that someone logs in, what is the probability that they click on storiess?\n",
    "what's the probability that they share information?\n",
    "\n",
    "make kpi for facebook data as well. \n",
    "\n",
    "see what data I can grab from facebook. How to track engagement on that website? the idea si that any changes on the makesense platform might also boost engagement on facebook."
   ]
  },
  {
   "cell_type": "code",
   "execution_count": 10,
   "metadata": {
    "collapsed": false
   },
   "outputs": [],
   "source": [
    "import facebook\n",
    "import requests\n",
    "graph = facebook.GraphAPI(access_token='EAACEdEose0cBAOIsC0eTgrNMpIvqqwfijYldMSPcAHPL4EZBSok7ZCqetlAIIdCx6EAXRMR6XNRZAvv0ZCOo5umxSZB8yInfK1gk1R0yUTRkZAZBC1euuNS5LD0mP5jVr0ZCmStibD8ascaU6bLssyIqCZBXEZCYaakcHjNNdG0epb0AZDZD', \n",
    "                          version=2.2)\n",
    "#make a graph object for makesense events\n",
    "#events = graph.get_object('MakeSenseorg', fields='events', page=True)\n",
    "#retrieve all events\n",
    "#allevents = []\n",
    "#event_engagement = []\n",
    "#these_events = events['events']\n",
    "#while(True):\n",
    "#    try:\n",
    "#        for event in these_events['data']:\n",
    "#            allevents.append(event['id'])\n",
    "#            event_engagement.append(\n",
    "#                        graph.get_object(event['id'], \n",
    "#                                         fields=['attending_count, interested_count, maybe_count, noreply_count']))\n",
    "#        these_events=requests.get(these_events['paging']['next']).json()\n",
    "#    except KeyError:\n",
    "#        break"
   ]
  },
  {
   "cell_type": "code",
   "execution_count": 11,
   "metadata": {
    "collapsed": false
   },
   "outputs": [
    {
     "data": {
      "text/plain": [
       "{u'events': {u'data': [{u'end_time': u'2016-12-07T21:00:00+0100',\n",
       "    u'id': u'1049001901858430',\n",
       "    u'location': u'iForesee',\n",
       "    u'name': u'SenseDrink #9',\n",
       "    u'start_time': u'2016-12-07T18:00:00+0100',\n",
       "    u'timezone': u'Europe/Amsterdam'},\n",
       "   {u'end_time': u'2016-12-03T18:30:00+0100',\n",
       "    u'id': u'1765416763712699',\n",
       "    u'location': u'Now coworking',\n",
       "    u'name': u'SenseFiction Rouen - Etape Cl\\xe9 de la Social Cup 2016',\n",
       "    u'start_time': u'2016-12-03T14:30:00+0100',\n",
       "    u'timezone': u'Europe/Paris'},\n",
       "   {u'end_time': u'2016-12-03T18:30:00+0100',\n",
       "    u'id': u'186091741826823',\n",
       "    u'location': u'La Cantine Num\\xe9rique',\n",
       "    u'name': u'SenseFiction Nantes - Etape Cl\\xe9 de la Social Cup 2016',\n",
       "    u'start_time': u'2016-12-03T14:30:00+0100',\n",
       "    u'timezone': u'Europe/Paris'},\n",
       "   {u'end_time': u'2016-12-03T18:30:00+0100',\n",
       "    u'id': u'155854674871167',\n",
       "    u'location': u'Rivetoile Plage',\n",
       "    u'name': u'SenseFiction Strasbourg - Etape Cl\\xe9 de la Social Cup',\n",
       "    u'start_time': u'2016-12-03T14:30:00+0100',\n",
       "    u'timezone': u'Europe/Paris'},\n",
       "   {u'end_time': u'2016-12-03T18:30:00+0100',\n",
       "    u'id': u'1643735212590479',\n",
       "    u'location': u'La Grappe, 75 rue L\\xe9on Gambetta, Lille',\n",
       "    u'name': u'SenseFiction Lille - Etape Cl\\xe9 de la Social Cup 2016',\n",
       "    u'start_time': u'2016-12-03T14:30:00+0100',\n",
       "    u'timezone': u'Europe/Paris'},\n",
       "   {u'end_time': u'2016-11-26T18:30:00+0100',\n",
       "    u'id': u'1622323931398658',\n",
       "    u'location': u'SMACK - Coworking in Good Company',\n",
       "    u'name': u'SenseFiction Marseille - Etape Cl\\xe9 de la Social Cup',\n",
       "    u'start_time': u'2016-11-26T14:30:00+0100',\n",
       "    u'timezone': u'Europe/Paris'},\n",
       "   {u'end_time': u'2016-11-26T18:30:00+0100',\n",
       "    u'id': u'690787954420450',\n",
       "    u'location': u'Les Imaginations Fertiles',\n",
       "    u'name': u'SenseFiction Toulouse - Etape Cl\\xe9 de la Social Cup',\n",
       "    u'start_time': u'2016-11-26T14:30:00+0100',\n",
       "    u'timezone': u'Europe/Paris'},\n",
       "   {u'end_time': u'2016-11-26T18:30:00+0100',\n",
       "    u'id': u'636269453208376',\n",
       "    u'location': u'sensespace',\n",
       "    u'name': u'SenseFiction Paris - Etape Cl\\xe9 de la Social Cup 2016',\n",
       "    u'start_time': u'2016-11-26T14:30:00+0100',\n",
       "    u'timezone': u'Europe/Paris'},\n",
       "   {u'end_time': u'2016-11-26T18:30:00+0100',\n",
       "    u'id': u'296606057389873',\n",
       "    u'location': u\"Maison de l'ESS Rennes - 15 rue Martenot - Rennes\",\n",
       "    u'name': u'SenseFiction Rennes - Etape Cl\\xe9 de la Social Cup 2016',\n",
       "    u'start_time': u'2016-11-26T14:30:00+0100',\n",
       "    u'timezone': u'Europe/Paris'},\n",
       "   {u'end_time': u'2016-11-19T18:30:00+0100',\n",
       "    u'id': u'1219163068155211',\n",
       "    u'location': u'La Cord\\xe9e',\n",
       "    u'name': u'SenseFiction Lyon - Etape Cl\\xe9 de la Social Cup 2016',\n",
       "    u'start_time': u'2016-11-19T14:30:00+0100',\n",
       "    u'timezone': u'Europe/Paris'},\n",
       "   {u'id': u'359167774207387',\n",
       "    u'location': u'De Verrekijker',\n",
       "    u'name': u'SenseDrink Amsterdam #22',\n",
       "    u'start_time': u'2016-11-16T17:30:00+0100',\n",
       "    u'timezone': u'Europe/Amsterdam'},\n",
       "   {u'end_time': u'2016-11-15T22:00:00+0100',\n",
       "    u'id': u'671160363048972',\n",
       "    u'location': u'Epicentre Factory',\n",
       "    u'name': u'SenseFiction Clermont-Ferrand - Etape Cl\\xe9 de la Social Cup',\n",
       "    u'start_time': u'2016-11-15T18:30:00+0100',\n",
       "    u'timezone': u'Europe/Paris'},\n",
       "   {u'end_time': u'2016-11-05T18:30:00+0100',\n",
       "    u'id': u'791249114351432',\n",
       "    u'location': u'Halle des Douves',\n",
       "    u'name': u'SenseFiction Bordeaux - Etape Cl\\xe9 de la Social Cup 2016',\n",
       "    u'start_time': u'2016-11-05T14:30:00+0100',\n",
       "    u'timezone': u'Europe/Paris'},\n",
       "   {u'end_time': u'2016-11-05T18:30:00+0100',\n",
       "    u'id': u'1121127631268970',\n",
       "    u'name': u'SenseFiction Montpellier - Etape Cl\\xe9 de la Social Cup',\n",
       "    u'start_time': u'2016-11-05T14:30:00+0100',\n",
       "    u'timezone': u'Europe/Paris'},\n",
       "   {u'end_time': u'2016-11-06T19:00:00+0100',\n",
       "    u'id': u'182327392192832',\n",
       "    u'location': u'Ville de Juvisy-sur-Orge',\n",
       "    u'name': u'Forum contributif de Juvisy : tous acteurs de notre ville !',\n",
       "    u'start_time': u'2016-11-05T09:00:00+0100',\n",
       "    u'timezone': u'Europe/Paris'},\n",
       "   {u'end_time': u'2016-11-02T21:00:00+0100',\n",
       "    u'id': u'479725775544024',\n",
       "    u'location': u'iForesee',\n",
       "    u'name': u'SenseDrink #8',\n",
       "    u'start_time': u'2016-11-02T18:00:00+0100',\n",
       "    u'timezone': u'Europe/Amsterdam'},\n",
       "   {u'end_time': u'2016-10-31T13:30:00+0100',\n",
       "    u'id': u'194835100931896',\n",
       "    u'location': u'Online and 11 rue biscornet Paris',\n",
       "    u'name': u'Training - How to organise & facilitate a Hold-Up ( Creativity Workshop) ?',\n",
       "    u'start_time': u'2016-10-31T12:30:00+0100',\n",
       "    u'timezone': u'Europe/Paris'},\n",
       "   {u'end_time': u'2016-10-30T23:59:00+0100',\n",
       "    u'id': u'187712261654902',\n",
       "    u'name': u'Le SenseCube recrute sa nouvelle promotion de start-up sociales',\n",
       "    u'start_time': u'2016-10-30T23:30:00+0100',\n",
       "    u'timezone': u'Europe/Paris'},\n",
       "   {u'end_time': u'2016-10-26T23:59:00+0200',\n",
       "    u'id': u'1165439663527300',\n",
       "    u'location': u'SenseCube',\n",
       "    u'name': u'SenseNight // Soir\\xe9e de cl\\xf4ture promo #4',\n",
       "    u'start_time': u'2016-10-26T19:30:00+0200',\n",
       "    u'timezone': u'Europe/Paris'},\n",
       "   {u'end_time': u'2016-10-17T20:30:00+0200',\n",
       "    u'id': u'287134198322189',\n",
       "    u'location': u'Online and 11 rue biscornet Paris',\n",
       "    u'name': u'Training - How to organise & facilitate a Hold-Up ( Creativity Workshop) ?',\n",
       "    u'start_time': u'2016-10-17T19:30:00+0200',\n",
       "    u'timezone': u'Europe/Paris'},\n",
       "   {u'id': u'148352122289827',\n",
       "    u'name': u\"Sensedrink @ouagadougou #l'innovation pour la s\\xe9curit\\xe9 alimentaire \\xe9t plus\",\n",
       "    u'start_time': u'2016-10-13T19:00:00+0000',\n",
       "    u'timezone': u'Africa/Dakar'},\n",
       "   {u'end_time': u'2016-10-12T22:00:00+0200',\n",
       "    u'id': u'1350365671670732',\n",
       "    u'location': u'sensespace',\n",
       "    u'name': u'Hold Up YUCA - Sant\\xe9, nutrition, transparence',\n",
       "    u'start_time': u'2016-10-12T19:00:00+0200',\n",
       "    u'timezone': u'Europe/Paris'},\n",
       "   {u'end_time': u'2016-10-11T23:00:00+0200',\n",
       "    u'id': u'1696948680624355',\n",
       "    u'location': u'la Maison Caf\\xe9 Nantes',\n",
       "    u'name': u\"SenseDrink'Cup Nantes\",\n",
       "    u'start_time': u'2016-10-11T19:30:00+0200',\n",
       "    u'timezone': u'Europe/Paris'},\n",
       "   {u'end_time': u'2016-10-11T21:30:00+0800',\n",
       "    u'id': u'127971974332506',\n",
       "    u'location': u'to be confirmed soon!',\n",
       "    u'name': u'Creativity workshop for the social entreprise Growing Smart HK',\n",
       "    u'start_time': u'2016-10-11T19:00:00+0800',\n",
       "    u'timezone': u'Asia/Hong_Kong'},\n",
       "   {u'end_time': u'2016-10-07T22:30:00+0100',\n",
       "    u'id': u'544144979124186',\n",
       "    u'location': u'Storik',\n",
       "    u'name': u'MakeSense SenseDrink: Kicking off SenseCamp Lisbon 2016',\n",
       "    u'start_time': u'2016-10-07T19:30:00+0100',\n",
       "    u'timezone': u'Europe/Lisbon'}],\n",
       "  u'paging': {u'cursors': {u'after': u'NTQ0MTQ0OTc5MTI0MTg2',\n",
       "    u'before': u'MTA0OTAwMTkwMTg1ODQzMAZDZD'},\n",
       "   u'next': u'https://graph.facebook.com/v2.2/279050068792/events?access_token=EAACEdEose0cBAOIsC0eTgrNMpIvqqwfijYldMSPcAHPL4EZBSok7ZCqetlAIIdCx6EAXRMR6XNRZAvv0ZCOo5umxSZB8yInfK1gk1R0yUTRkZAZBC1euuNS5LD0mP5jVr0ZCmStibD8ascaU6bLssyIqCZBXEZCYaakcHjNNdG0epb0AZDZD&limit=25&after=NTQ0MTQ0OTc5MTI0MTg2'}},\n",
       " u'id': u'279050068792'}"
      ]
     },
     "execution_count": 11,
     "metadata": {},
     "output_type": "execute_result"
    }
   ],
   "source": [
    "graph.get_object('Makesenseorg', fields='events')"
   ]
  },
  {
   "cell_type": "code",
   "execution_count": 153,
   "metadata": {
    "collapsed": false
   },
   "outputs": [],
   "source": [
    "import datetime\n",
    "df = pd.DataFrame(event_engagement)\n",
    "df['contacts'] = df.attending_count + df.interested_count+df.maybe_count+df.noreply_count\n",
    "df.to_csv('fbdat.csv', index=False)\n"
   ]
  },
  {
   "cell_type": "code",
   "execution_count": null,
   "metadata": {
    "collapsed": true
   },
   "outputs": [],
   "source": [
    "import matplotlib.pyplot as plt\n"
   ]
  },
  {
   "cell_type": "code",
   "execution_count": 53,
   "metadata": {
    "collapsed": false
   },
   "outputs": [],
   "source": [
    "t = requests.get(events['events']['paging']['next']).json()"
   ]
  },
  {
   "cell_type": "code",
   "execution_count": 73,
   "metadata": {
    "collapsed": false
   },
   "outputs": [
    {
     "data": {
      "text/plain": [
       "{u'attending_count': 9,\n",
       " u'id': u'1082022308500634',\n",
       " u'interested_count': 5,\n",
       " u'maybe_count': 5,\n",
       " u'start_time': u'2016-08-19T19:30:00-0700'}"
      ]
     },
     "execution_count": 73,
     "metadata": {},
     "output_type": "execute_result"
    }
   ],
   "source": [
    "graph.get_object(allevents[51]['id'], fields=['attending_count, interested_count, maybe_count'])"
   ]
  },
  {
   "cell_type": "code",
   "execution_count": 70,
   "metadata": {
    "collapsed": false
   },
   "outputs": [
    {
     "data": {
      "text/plain": [
       "{u'end_time': u'2016-08-20T21:00:00-0700',\n",
       " u'id': u'1082022308500634',\n",
       " u'location': u'Asiento',\n",
       " u'name': u'SenseDrink SanFrancisco',\n",
       " u'start_time': u'2016-08-19T19:30:00-0700',\n",
       " u'timezone': u'America/Los_Angeles'}"
      ]
     },
     "execution_count": 70,
     "metadata": {},
     "output_type": "execute_result"
    }
   ],
   "source": [
    "allevents[51]"
   ]
  },
  {
   "cell_type": "markdown",
   "metadata": {},
   "source": [
    "### Next steps\n",
    "So far, I've explored the pattern of user behavior on makesense and on the primary facebook group. \n",
    "\n",
    "There are two options for engagement:\n",
    "\n",
    "1. tracking the number of participants in a given event\n",
    "2. tracking the number of events that occur\n",
    "\n",
    "#### Why would the number of participants in a given event be a useful metric?\n",
    "on the face of it, more participants could potentially mean more "
   ]
  },
  {
   "cell_type": "code",
   "execution_count": null,
   "metadata": {
    "collapsed": true
   },
   "outputs": [],
   "source": []
  }
 ],
 "metadata": {
  "kernelspec": {
   "display_name": "Python 2",
   "language": "python",
   "name": "python2"
  },
  "language_info": {
   "codemirror_mode": {
    "name": "ipython",
    "version": 2
   },
   "file_extension": ".py",
   "mimetype": "text/x-python",
   "name": "python",
   "nbconvert_exporter": "python",
   "pygments_lexer": "ipython2",
   "version": "2.7.12"
  }
 },
 "nbformat": 4,
 "nbformat_minor": 0
}
